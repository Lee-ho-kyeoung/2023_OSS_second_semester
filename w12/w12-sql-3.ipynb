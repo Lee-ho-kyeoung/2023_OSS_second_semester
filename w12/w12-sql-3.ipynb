{
 "cells": [
  {
   "cell_type": "code",
   "execution_count": 11,
   "metadata": {},
   "outputs": [],
   "source": [
    "import pymysql"
   ]
  },
  {
   "cell_type": "code",
   "execution_count": 12,
   "metadata": {},
   "outputs": [],
   "source": [
    "mydb = pymysql.connect(\n",
    "    host='172.17.0.1', \n",
    "    port=3306, \n",
    "    user='root', \n",
    "    passwd='qwer', \n",
    "    db='nation', \n",
    "    charset='utf8'\n",
    ")\n",
    "\n",
    "cursor=mydb.cursor()\n",
    "\n",
    "sql = \"SELECT * FROM countries\" # 테이블 전체를 불러옴\n",
    "cursor.execute(sql)\n",
    "rows = cursor.fetchall()\n",
    "cursor.close()\n",
    "mydb.close() # DB 연결 종료"
   ]
  },
  {
   "cell_type": "code",
   "execution_count": 13,
   "metadata": {},
   "outputs": [
    {
     "name": "stdout",
     "output_type": "stream",
     "text": [
      "((1, 'Aruba', Decimal('193.00'), None, 'AW', 'ABW', 1), (2, 'Afghanistan', Decimal('652090.00'), datetime.date(1919, 8, 19), 'AF', 'AFG', 2))\n"
     ]
    }
   ],
   "source": [
    "print(rows[0:2])"
   ]
  },
  {
   "cell_type": "code",
   "execution_count": 14,
   "metadata": {},
   "outputs": [
    {
     "name": "stdout",
     "output_type": "stream",
     "text": [
      "(1, 'Aruba', Decimal('193.00'), None, 'AW', 'ABW', 1)\n",
      "(2, 'Afghanistan', Decimal('652090.00'), datetime.date(1919, 8, 19), 'AF', 'AFG', 2)\n",
      "(3, 'Angola', Decimal('1246700.00'), datetime.date(1975, 11, 11), 'AO', 'AGO', 3)\n",
      "(4, 'Anguilla', Decimal('96.00'), datetime.date(1967, 5, 30), 'AI', 'AIA', 1)\n",
      "(5, 'Albania', Decimal('28748.00'), datetime.date(1912, 11, 28), 'AL', 'ALB', 4)\n"
     ]
    }
   ],
   "source": [
    "for country in rows[0:5]:\n",
    "    print(country)"
   ]
  },
  {
   "cell_type": "code",
   "execution_count": 15,
   "metadata": {},
   "outputs": [
    {
     "name": "stdout",
     "output_type": "stream",
     "text": [
      "program works!!!\n"
     ]
    }
   ],
   "source": [
    "# with 문 사용\n",
    "sql = \"SELECT * FROM countries\" # 테이블 전체를 불러옴\n",
    "\n",
    "with pymysql.connect(\n",
    "    host='172.17.0.1', \n",
    "    port=3306, \n",
    "    user='root', \n",
    "    passwd='qwer', \n",
    "    db='nation', \n",
    "    charset='utf8'\n",
    ") as db:\n",
    "    cursor = db.cursor()\n",
    "    cursor.execute(sql)\n",
    "    rows_1 = cursor.fetchall()\n",
    "\n",
    "# print(\"program works!!!\")"
   ]
  },
  {
   "cell_type": "code",
   "execution_count": 16,
   "metadata": {},
   "outputs": [
    {
     "name": "stdout",
     "output_type": "stream",
     "text": [
      "(1, 'Aruba', Decimal('193.00'), None, 'AW', 'ABW', 1)\n",
      "(2, 'Afghanistan', Decimal('652090.00'), datetime.date(1919, 8, 19), 'AF', 'AFG', 2)\n",
      "(3, 'Angola', Decimal('1246700.00'), datetime.date(1975, 11, 11), 'AO', 'AGO', 3)\n",
      "(4, 'Anguilla', Decimal('96.00'), datetime.date(1967, 5, 30), 'AI', 'AIA', 1)\n",
      "(5, 'Albania', Decimal('28748.00'), datetime.date(1912, 11, 28), 'AL', 'ALB', 4)\n"
     ]
    }
   ],
   "source": [
    "for country in rows_1[0:5]:\n",
    "    print(country)"
   ]
  },
  {
   "cell_type": "code",
   "execution_count": 17,
   "metadata": {},
   "outputs": [],
   "source": [
    "# try, except로 예외 처리\n",
    "sql = \"SELECT * FROM countries\" # 테이블 전체를 불러옴\n",
    "\n",
    "try:\n",
    "    with pymysql.connect(\n",
    "        host='172.17.0.1', \n",
    "        port=3306, \n",
    "        user='root', \n",
    "        passwd='qwer', \n",
    "        db='nation', \n",
    "        charset='utf8'\n",
    "    ) as db:\n",
    "        cursor = db.cursor()\n",
    "        cursor.execute(sql)\n",
    "        rows_2 = cursor.fetchall()\n",
    "except pymysql.err.OperationalError as e:\n",
    "    print(e)\n",
    "\n",
    "# print(\"program works!!!\")"
   ]
  },
  {
   "cell_type": "code",
   "execution_count": 18,
   "metadata": {},
   "outputs": [
    {
     "name": "stdout",
     "output_type": "stream",
     "text": [
      "(1, 'Aruba', Decimal('193.00'), None, 'AW', 'ABW', 1)\n",
      "(2, 'Afghanistan', Decimal('652090.00'), datetime.date(1919, 8, 19), 'AF', 'AFG', 2)\n",
      "(3, 'Angola', Decimal('1246700.00'), datetime.date(1975, 11, 11), 'AO', 'AGO', 3)\n",
      "(4, 'Anguilla', Decimal('96.00'), datetime.date(1967, 5, 30), 'AI', 'AIA', 1)\n",
      "(5, 'Albania', Decimal('28748.00'), datetime.date(1912, 11, 28), 'AL', 'ALB', 4)\n"
     ]
    }
   ],
   "source": [
    "for country in rows_2[0:5]:\n",
    "    print(country)\n"
   ]
  },
  {
   "cell_type": "code",
   "execution_count": 19,
   "metadata": {},
   "outputs": [
    {
     "name": "stdout",
     "output_type": "stream",
     "text": [
      "program works!!!\n"
     ]
    }
   ],
   "source": [
    "# 예외 발생 : password -> root\n",
    "sql = \"SELECT * FROM countries\" # 테이블 전체를 불러옴\n",
    "\n",
    "with pymysql.connect(\n",
    "    host='172.17.0.1', \n",
    "    port=3306, \n",
    "    user='root', \n",
    "    passwd='qwer', \n",
    "    db='nation', \n",
    "    charset='utf8'\n",
    ") as db:\n",
    "    cursor = db.cursor()\n",
    "    cursor.execute(sql)\n",
    "    rows_1 = cursor.fetchall()\n",
    "\n",
    "print(\"program works!!!\")"
   ]
  },
  {
   "cell_type": "code",
   "execution_count": 26,
   "metadata": {},
   "outputs": [
    {
     "name": "stdout",
     "output_type": "stream",
     "text": [
      "(1045, \"Access denied for user 'root'@'172.17.0.3' (using password: YES)\")\n",
      "---------------------------------\n",
      " program works!!!\n"
     ]
    }
   ],
   "source": [
    "# try, except로 예외 처리\n",
    "# 예외 발생 : password -> root\n",
    "sql = \"SELECT * FROM countries\" # 테이블 전체를 불러옴\n",
    "\n",
    "try:\n",
    "    with pymysql.connect(\n",
    "        host='172.17.0.1', \n",
    "        port=3306, \n",
    "        user='root', \n",
    "        passwd='root', \n",
    "        db='nation', \n",
    "        charset='utf8'\n",
    "    ) as db:\n",
    "        cursor = db.cursor()\n",
    "        cursor.execute(sql)\n",
    "        rows_2 = cursor.fetchall()\n",
    "except pymysql.err.OperationalError as e:\n",
    "    print(e)\n",
    "\n",
    "print(\"---------------------------------\\n program works!!!\")"
   ]
  }
 ],
 "metadata": {
  "kernelspec": {
   "display_name": "Python 3",
   "language": "python",
   "name": "python3"
  },
  "language_info": {
   "codemirror_mode": {
    "name": "ipython",
    "version": 3
   },
   "file_extension": ".py",
   "mimetype": "text/x-python",
   "name": "python",
   "nbconvert_exporter": "python",
   "pygments_lexer": "ipython3",
   "version": "3.10.6"
  },
  "orig_nbformat": 4
 },
 "nbformat": 4,
 "nbformat_minor": 2
}
